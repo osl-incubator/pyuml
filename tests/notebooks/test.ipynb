{
 "cells": [
  {
   "cell_type": "code",
   "execution_count": 1,
   "metadata": {},
   "outputs": [
    {
     "name": "stdout",
     "output_type": "stream",
     "text": [
      "Overwriting class_a.py\n"
     ]
    }
   ],
   "source": [
    "%%writefile class_a.py\n",
    "import dataclasses\n",
    "\n",
    "\n",
    "@dataclasses.dataclass\n",
    "class ClassA:\n",
    "    aa : str = None\n",
    "    ab : int = 0\n",
    "        \n",
    "    def print_content(self):\n",
    "        print(self.__dict__)\n",
    "        "
   ]
  },
  {
   "cell_type": "code",
   "execution_count": 2,
   "metadata": {},
   "outputs": [
    {
     "name": "stdout",
     "output_type": "stream",
     "text": [
      "Overwriting class_b.py\n"
     ]
    }
   ],
   "source": [
    "%%writefile class_b.py\n",
    "import dataclasses\n",
    "from class_a import ClassA\n",
    "\n",
    "@dataclasses.dataclass\n",
    "class ClassB(ClassA):\n",
    "    ba : str = None\n",
    "    bb : int = 0\n",
    "        \n",
    "    def print_content(self):\n",
    "        print(self.__dict__)\n",
    "        "
   ]
  },
  {
   "cell_type": "code",
   "execution_count": null,
   "metadata": {},
   "outputs": [],
   "source": []
  }
 ],
 "metadata": {
  "kernelspec": {
   "display_name": "Python 3",
   "language": "python",
   "name": "python3"
  },
  "language_info": {
   "codemirror_mode": {
    "name": "ipython",
    "version": 3
   },
   "file_extension": ".py",
   "mimetype": "text/x-python",
   "name": "python",
   "nbconvert_exporter": "python",
   "pygments_lexer": "ipython3",
   "version": "3.7.6"
  }
 },
 "nbformat": 4,
 "nbformat_minor": 4
}
